{
 "cells": [
  {
   "cell_type": "markdown",
   "metadata": {
    "colab_type": "text",
    "id": "W_oI1y6-cY4d"
   },
   "source": [
    "# Homework 2: Word Similarity"
   ]
  },
  {
   "cell_type": "markdown",
   "metadata": {
    "colab_type": "text",
    "collapsed": true,
    "id": "XIBjsAqjcY4e"
   },
   "source": [
    "Student Name: Xinnan SHEN\n",
    "\n",
    "Student ID: 1051380"
   ]
  },
  {
   "cell_type": "markdown",
   "metadata": {
    "colab_type": "text",
    "id": "1Huv7ALVcY4f"
   },
   "source": [
    "## General info"
   ]
  },
  {
   "cell_type": "markdown",
   "metadata": {
    "colab_type": "text",
    "id": "p07JVvoScY4g"
   },
   "source": [
    "<b>Due date</b>: Thursday, 4 June 2020 5pm\n",
    "\n",
    "<b>Submission method</b>: Canvas submission\n",
    "\n",
    "<b>Submission materials</b>: completed copy of this iPython notebook\n",
    "\n",
    "<b>Late submissions</b>: -10% per day (both week and weekend days counted)\n",
    "\n",
    "<b>Marks</b>: 10% of mark for class (with 9% on correctness + 1% on quality and efficiency of your code)\n",
    "\n",
    "**Note**: As we will be implementing neural networks in this assignment, you're encouraged to build your notebook on **colab**. See the programming exercise in workshop-07 (`10-bert.ipynb`) if you are not familiar with colab.\n",
    "\n",
    "<b>Materials</b>: See [Using Jupyter Notebook and Python page](https://canvas.lms.unimelb.edu.au/courses/17601/pages/using-jupyter-notebook-and-python?module_item_id=1678430) on Canvas (under Modules>Resources) for information on the basic setup required for this class, including an iPython notebook viewer and the python packages NLTK, Numpy, Scipy, Matplotlib, Scikit-Learn, and Gensim. In particular, if you are not using a lab computer which already has it installed, we recommend installing all the data for NLTK, since you will need various parts of it to complete this assignment. Deep learning libraries such as keras and pytorch are also allowed.  You can also use any Python built-in packages, but do not use any other 3rd party packages (the packages listed above are all fine to use); if your iPython notebook doesn't run on the marker's machine, you will lose marks. <b> You should use Python 3</b>.  \n",
    "\n",
    "To familiarize yourself with NLTK, here is a free online book:  Steven Bird, Ewan Klein, and Edward Loper (2009). <a href=http://nltk.org/book>Natural Language Processing with Python</a>. O'Reilly Media Inc. You may also consult the <a href=https://www.nltk.org/api/nltk.html>NLTK API</a>.\n",
    "\n",
    "\n",
    "\n",
    "\n",
    "<b>Evaluation</b>: Your iPython notebook should run end-to-end without any errors in a reasonable amount of time, and you must follow all instructions provided below, including specific implementation requirements and instructions for what needs to be printed (please avoid printing output we don't ask for). You should edit the sections below where requested, but leave the rest of the code as is. You should leave the output from running your code in the iPython notebook you submit, to assist with marking. The amount each section is worth is given in parenthesis after the instructions. \n",
    "\n",
    "You will be marked not only on the correctness of your methods, but also the quality and efficency of your code: in particular, you should be careful to use Python built-in functions and operators when appropriate and pick descriptive variable names that adhere to <a href=\"https://www.python.org/dev/peps/pep-0008/\">Python style requirements</a>. If you think it might be unclear what you are doing, you should comment your code to help the marker make sense of it.\n",
    "\n",
    "<b>Updates</b>: Any major changes to the assignment will be announced via Canvas. Minor changes and clarifications will be announced on the discussion board; we recommend you check it regularly.\n",
    "\n",
    "<b>Academic misconduct</b>: For most people, collaboration will form a natural part of the undertaking of this homework, and we encourge you to discuss it in general terms with other students. However, this ultimately is still an individual task, and so reuse of code or other instances of clear influence will be considered cheating. We will be checking submissions for originality and will invoke the University’s <a href=\"http://academichonesty.unimelb.edu.au/policy.html\">Academic Misconduct policy</a> where inappropriate levels of collusion or plagiarism are deemed to have taken place."
   ]
  },
  {
   "cell_type": "markdown",
   "metadata": {
    "colab_type": "text",
    "id": "wseHhYGScY4g"
   },
   "source": [
    "## Overview"
   ]
  },
  {
   "cell_type": "markdown",
   "metadata": {
    "colab_type": "text",
    "id": "wH9UvbJTcY4h"
   },
   "source": [
    "In this homework, you'll be quantifying the similarity between pairs of words of a dataset using different methods with the word co-occurrence in the Brown corpus and synset structure of WordNet. Firstly, you will preprocess the dataset to filter out the rare and ambiguous words. Secondly, you will calculate the similarity scores for pairs of words in the filtered dataset using Lin similarity, NPMI and LSA. Lastly, you will quantify how well these methods work by comparing to a human annotated gold-standard."
   ]
  },
  {
   "cell_type": "markdown",
   "metadata": {
    "colab_type": "text",
    "id": "2ptNKS9CcY4h"
   },
   "source": [
    "## 1. Preprocessing (2 marks)"
   ]
  },
  {
   "cell_type": "markdown",
   "metadata": {
    "colab_type": "text",
    "collapsed": true,
    "id": "V2OlvNAicY4i"
   },
   "source": [
    "### Question 1 (1.0 mark)\n",
    "\n",
    "<b>Instructions</b>: For this homework we will be comparing our methods against a popular dataset of word similarities called <a href=\"http://alfonseca.org/eng/research/wordsim353.html\">Similarity-353</a>. You need to first obtain this dataset, which is on Canvas (assignment 2). The file we will be using is called *set1.tab*. Make sure you save this in the same folder as the notebook.  Except for the header (which should be stripped out), the file is tab formated with the first two columns corresponding to two words, and the third column representing a human-annotated similarity between the two words. <b>You should ignore the subsequent columns</b>.\n",
    "\n",
    "Here shows the first six lines of the file:\n",
    "\n",
    "```\n",
    "Word 1\tWord 2\tHuman (mean)\t1\t2\t3\t4\t5\t6\t7\t8\t9\t10\t11\t12\t13\t\n",
    "love\tsex\t6.77\t9\t6\t8\t8\t7\t8\t8\t4\t7\t2\t6\t7\t8\t\n",
    "tiger\tcat\t7.35\t9\t7\t8\t7\t8\t9\t8.5\t5\t6\t9\t7\t5\t7\t\n",
    "tiger\ttiger\t10.00\t10\t10\t10\t10\t10\t10\t10\t10\t10\t10\t10\t10\t10\t\n",
    "book\tpaper\t7.46\t8\t8\t7\t7\t8\t9\t7\t6\t7\t8\t9\t4\t9\t\n",
    "computer\tkeyboard\t7.62\t8\t7\t9\t9\t8\t8\t7\t7\t6\t8\t10\t3\t9\t\n",
    "```\n",
    "    \n",
    "You should load this file into a Python dictionary (NOTE: in Python, tuples of strings, i.e. (\"tiger\",\"cat\") can serve as the keys of a dictionary to map to their human-annotated similarity). This dataset contains many rare words: we need to filter this dataset in order for it to be better suited to the resources we will use in this assignment. So your first goal is to filter this dataset to generate a smaller test set where you will evaluate your word similarity methods.\n",
    "\n",
    "The first filtering is based on **document frequencies** (not token frequencies) in the Brown corpus, in order to remove rare words. In this homework, **we will be treating the paragraphs of the Brown corpus as our \"documents\"**. You can iterate over them by using the `paras` method of the corpus reader. You should remove tokens that are not alphabetic. Tokens should be lower-cased and lemmatized (lemmatize function provided). Store this preprocessed data in *brown_corpus* object (it will be used for question 4 and 5 later).\n",
    "\n",
    "Now calculate document frequencies for each word type, and use this to remove from your word similarity data any word pairs where at least one of the two words has a document frequency of **$< 8$** in this corpus. You should store all the word pair and similarity mappings in your filtered test set in a dictionary called *filtered_gold_standard*.\n",
    "\n",
    "Note: the document frequency of a word denotes the number of documents that contains the word.\n",
    "\n",
    "**Task**: Filter word pairs from *set1.tab* based on document frequencies. Produce *brown_corpus*, which is a list where each element is a set of words for one paragraph (e.g. the first element in *brown_corpus* should contain all the unique word types for the first paragraph). Produce *filtered_gold_standard*, a dictionary of filtered word pairs with human similarity ratings (the dictionary should have (word1, word2) as keys, and similarity ratings as values).\n",
    "\n",
    "**Check**: Use the assertion statements in *\"For your testing\"* below for the expected *filtered_gold_standard*."
   ]
  },
  {
   "cell_type": "code",
   "execution_count": 37,
   "metadata": {
    "colab": {
     "base_uri": "https://localhost:8080/",
     "height": 139
    },
    "colab_type": "code",
    "id": "szPlY9PIcY4j",
    "outputId": "8cf7e81d-9805-47df-c4a4-c90fe6b8300c",
    "scrolled": true
   },
   "outputs": [
    {
     "name": "stdout",
     "output_type": "stream",
     "text": [
      "[nltk_data] Downloading package brown to /root/nltk_data...\n",
      "[nltk_data]   Package brown is already up-to-date!\n",
      "[nltk_data] Downloading package wordnet to /root/nltk_data...\n",
      "[nltk_data]   Package wordnet is already up-to-date!\n",
      "94\n",
      "{('love', 'sex'): 6.77, ('tiger', 'cat'): 7.35, ('tiger', 'tiger'): 10.0, ('book', 'paper'): 7.46, ('plane', 'car'): 5.77, ('train', 'car'): 6.31, ('telephone', 'communication'): 7.5, ('television', 'radio'): 6.77, ('drug', 'abuse'): 6.85, ('bread', 'butter'): 6.19, ('doctor', 'nurse'): 7.0, ('professor', 'doctor'): 6.62, ('student', 'professor'): 6.81, ('smart', 'student'): 4.62, ('smart', 'stupid'): 5.81, ('company', 'stock'): 7.08, ('stock', 'market'): 8.08, ('stock', 'phone'): 1.62, ('stock', 'egg'): 1.81, ('stock', 'live'): 3.73, ('stock', 'life'): 0.92, ('book', 'library'): 7.46, ('bank', 'money'): 8.12, ('wood', 'forest'): 7.73, ('money', 'cash'): 9.08, ('king', 'queen'): 8.58, ('bishop', 'rabbi'): 6.69, ('holy', 'sex'): 1.62, ('football', 'basketball'): 6.81, ('football', 'tennis'): 6.63, ('tennis', 'racket'): 7.56, ('law', 'lawyer'): 8.38, ('movie', 'star'): 7.38, ('movie', 'critic'): 6.73, ('movie', 'theater'): 7.92, ('space', 'chemistry'): 4.88, ('alcohol', 'chemistry'): 5.54, ('drink', 'car'): 3.04, ('drink', 'ear'): 1.31, ('drink', 'mouth'): 5.96, ('drink', 'eat'): 6.87, ('baby', 'mother'): 7.85, ('drink', 'mother'): 2.65, ('car', 'automobile'): 8.94, ('journey', 'voyage'): 9.29, ('coast', 'shore'): 9.1, ('food', 'fruit'): 7.52, ('bird', 'cock'): 7.1, ('tool', 'implement'): 6.46, ('brother', 'monk'): 6.27, ('journey', 'car'): 5.85, ('coast', 'hill'): 4.38, ('forest', 'graveyard'): 1.85, ('monk', 'slave'): 0.92, ('coast', 'forest'): 3.15, ('chord', 'smile'): 0.54, ('noon', 'string'): 0.54, ('money', 'dollar'): 8.42, ('money', 'currency'): 9.04, ('money', 'wealth'): 8.27, ('money', 'property'): 7.57, ('money', 'possession'): 7.29, ('money', 'bank'): 8.5, ('money', 'deposit'): 7.73, ('money', 'operation'): 3.31, ('tiger', 'animal'): 7.0, ('tiger', 'organism'): 4.77, ('tiger', 'zoo'): 5.87, ('psychology', 'anxiety'): 7.0, ('psychology', 'fear'): 6.85, ('psychology', 'depression'): 7.42, ('psychology', 'doctor'): 6.42, ('psychology', 'mind'): 7.69, ('psychology', 'health'): 7.23, ('psychology', 'science'): 6.71, ('psychology', 'discipline'): 5.58, ('planet', 'star'): 8.45, ('planet', 'moon'): 8.08, ('planet', 'sun'): 8.02, ('planet', 'galaxy'): 8.11, ('planet', 'space'): 7.92, ('precedent', 'example'): 5.85, ('precedent', 'information'): 3.85, ('precedent', 'law'): 6.65, ('precedent', 'collection'): 2.5, ('precedent', 'group'): 1.77, ('cup', 'coffee'): 6.58, ('cup', 'article'): 2.4, ('cup', 'object'): 3.69, ('cup', 'entity'): 2.15, ('cup', 'drink'): 7.25, ('cup', 'food'): 5.0, ('cup', 'substance'): 1.92, ('cup', 'liquid'): 5.9}\n"
     ]
    }
   ],
   "source": [
    "import nltk\n",
    "from nltk.corpus import brown\n",
    "from nltk.corpus import wordnet\n",
    "\n",
    "nltk.download(\"brown\")\n",
    "nltk.download(\"wordnet\")\n",
    "\n",
    "# filtered_gold_standard stores the word pairs and their human-annotated similarity in your filtered test set\n",
    "filtered_gold_standard = {}\n",
    "\n",
    "# lemmatizer\n",
    "lemmatizer = nltk.stem.wordnet.WordNetLemmatizer()\n",
    "\n",
    "def lemmatize(word):\n",
    "    lemma = lemmatizer.lemmatize(word,'v')\n",
    "    if lemma == word:\n",
    "        lemma = lemmatizer.lemmatize(word,'n')\n",
    "    return lemma\n",
    "\n",
    "\n",
    "###\n",
    "# Your answer BEGINS HERE\n",
    "###\n",
    "def search(word,corpus):\n",
    "    sum=0\n",
    "    for doc in corpus:\n",
    "        if word in doc:\n",
    "            sum=sum+1\n",
    "        if sum>=8:\n",
    "            break\n",
    "    return sum\n",
    "\n",
    "\n",
    "#read dataset into a dictionary\n",
    "file=open(\"set1.tab\",\"r\")\n",
    "strlist=file.readlines()\n",
    "file.close()\n",
    "raw_dict={}\n",
    "for ele in strlist:\n",
    "    if strlist.index(ele)==0:\n",
    "        continue\n",
    "    temp_str=ele.split(\"\\t\")[0:3]\n",
    "    raw_dict[(temp_str[0],temp_str[1])]=float(temp_str[2])\n",
    "\n",
    "#generate brown_corpus\n",
    "brown_raw=brown.paras()\n",
    "brown_corpus=[]\n",
    "for doc in brown_raw:\n",
    "    doc_temp=[]\n",
    "    for sen in doc:\n",
    "        sen_temp=[]\n",
    "        for word in sen:\n",
    "            if word.isalpha():\n",
    "                sen_temp.append(lemmatize(word.lower()))\n",
    "        doc_temp.extend(sen_temp)\n",
    "    brown_corpus.append(doc_temp)\n",
    "#filter dictionary\n",
    "filtered_gold_standard=raw_dict\n",
    "for key in list(filtered_gold_standard.keys()):\n",
    "    word1=key[0]\n",
    "    word2=key[1]\n",
    "    result1=search(word1,brown_corpus)\n",
    "    result2=search(word2,brown_corpus)\n",
    "    \n",
    "    if result1<8 or result2<8:\n",
    "        filtered_gold_standard.pop(key)\n",
    "###\n",
    "# Your answer ENDS HERE\n",
    "###\n",
    "\n",
    "print(len(filtered_gold_standard))\n",
    "print(filtered_gold_standard)\n"
   ]
  },
  {
   "cell_type": "markdown",
   "metadata": {
    "colab_type": "text",
    "id": "JTt3T9fycY4p"
   },
   "source": [
    "<b>For your testing: </b>"
   ]
  },
  {
   "cell_type": "code",
   "execution_count": 0,
   "metadata": {
    "colab": {},
    "colab_type": "code",
    "id": "PCkSP91lcY4q"
   },
   "outputs": [],
   "source": [
    "assert(len(brown_corpus)==15667)\n",
    "assert(len(filtered_gold_standard) > 50 and len(filtered_gold_standard) < 100)\n",
    "assert(filtered_gold_standard[('love', 'sex')] == 6.77)"
   ]
  },
  {
   "cell_type": "markdown",
   "metadata": {
    "colab_type": "text",
    "id": "zknFIccAcY40"
   },
   "source": [
    "### Question 2 (1.0 mark)\n",
    "\n",
    "<b>Instructions</b>: Here, you apply the second filtering. The second filtering is based on words with highly ambiguous senses and involves using the NLTK interface to WordNet. Here, you should remove any words which do not have a **single primary sense**. We define single primary sense here as either: (a) having only one sense (i.e. only one synset), or (b) where the count (as provided by the WordNet `count()` method for the lemmas associated with a synset) of the most common sense is at least 4 times larger than the next most common sense. Note that a synset can be associated with multiple lemmas. You should only consider the count of your lemma.\n",
    "\n",
    "Note: You should lowercase the lemmas of a synset when matching your word; and if there are multiple lowercased lemmas that match your word, you should sum up the count of all matching lemmas.\n",
    "\n",
    "Additionally, you should remove any words where the primary sense is **not a noun** (this information is also in the synset). Store the synset corresponding to this primary sense in a dictionary for use in the next section.\n",
    "\n",
    "Given this definition, remove the word pairs from the test set where at least one of the words does not meet the above criteria. When you have applied the two filtering steps, you should store all the word pair and similarity mappings in your filtered test set in a dictionary called *final_gold_standard*.\n",
    "\n",
    "**Task**: Filter word pairs for any words which do not have a single primary sense and aren't nouns. Produce *final_gold_standard*, a dictionary of filtered word pairs with human similarity ratings. Note: this second filtering is applied on top of the first filtering (question 1). In other words, you shouldn't consider any word pairs that have already been discarded by the first filtering in this question.\n",
    "\n",
    "**Check**: Use the assertion statements in *\"For your testing\"* for the expected *final_gold_standard*."
   ]
  },
  {
   "cell_type": "code",
   "execution_count": 39,
   "metadata": {
    "colab": {
     "base_uri": "https://localhost:8080/",
     "height": 71
    },
    "colab_type": "code",
    "id": "W6rdnrOXcY41",
    "outputId": "7fe3dad0-d757-433c-e74d-75911cad3d8f",
    "scrolled": false
   },
   "outputs": [
    {
     "name": "stdout",
     "output_type": "stream",
     "text": [
      "26\n",
      "{('bread', 'butter'): 6.19, ('professor', 'doctor'): 6.62, ('student', 'professor'): 6.81, ('stock', 'egg'): 1.81, ('money', 'cash'): 9.08, ('king', 'queen'): 8.58, ('bishop', 'rabbi'): 6.69, ('football', 'basketball'): 6.81, ('football', 'tennis'): 6.63, ('alcohol', 'chemistry'): 5.54, ('baby', 'mother'): 7.85, ('car', 'automobile'): 8.94, ('journey', 'voyage'): 9.29, ('coast', 'shore'): 9.1, ('brother', 'monk'): 6.27, ('journey', 'car'): 5.85, ('coast', 'hill'): 4.38, ('forest', 'graveyard'): 1.85, ('monk', 'slave'): 0.92, ('coast', 'forest'): 3.15, ('psychology', 'doctor'): 6.42, ('psychology', 'mind'): 7.69, ('psychology', 'health'): 7.23, ('psychology', 'science'): 6.71, ('planet', 'moon'): 8.08, ('planet', 'galaxy'): 8.11}\n"
     ]
    }
   ],
   "source": [
    "# final_gold_standard stores the word pairs and their human-annotated similarity in your final filtered test set\n",
    "final_gold_standard = {}\n",
    "word_primarysense = {} #a dictionary of (word, primary_sense) (used for next section); primary_sense is a synset\n",
    "\n",
    "###\n",
    "# Your answer BEGINS HERE\n",
    "###\n",
    "def freq(synset,word):\n",
    "    lemmas=synset.lemmas()\n",
    "    count=0\n",
    "    for l in lemmas:\n",
    "        if l.name().lower()==word.lower():\n",
    "            count=count+l.count()\n",
    "    return count\n",
    "\n",
    "def haveSinglePrimarySense(word):\n",
    "    synsets=wordnet.synsets(word)\n",
    "    \n",
    "    #find the primary and secondary senses\n",
    "    if len(synsets)==1:\n",
    "        word_primarysense[word]=synsets[0]\n",
    "        return True\n",
    "    for i in range(0,len(synsets)):\n",
    "        for j in range(i+1,len(synsets)):\n",
    "            fr1=freq(synsets[i],word)\n",
    "            fr2=freq(synsets[j],word)\n",
    "            if fr1<fr2:\n",
    "                temp=synsets[i]\n",
    "                synsets[i]=synsets[j]\n",
    "                synsets[j]=temp\n",
    "    primarysense=synsets[0]\n",
    "    secondarysense=synsets[1]            \n",
    "    \n",
    "    #judge whether the word is noun\n",
    "    pos=primarysense.pos()\n",
    "    \n",
    "    if pos!='n':\n",
    "        return False\n",
    "    word_primarysense[word]=primarysense\n",
    "    lemmas0=primarysense.lemmas()\n",
    "    lemmas1=secondarysense.lemmas()\n",
    "    #calculate the count of primary sense\n",
    "    sum_count0=0\n",
    "    for l0 in lemmas0:\n",
    "        lemma=l0.name()\n",
    "        if lemma.lower()==word.lower():\n",
    "            count=l0.count()\n",
    "            sum_count0=sum_count0+count\n",
    "    #calculate the count of secondary sense\n",
    "    sum_count1=0\n",
    "    for l1 in lemmas1:\n",
    "        lemma=l1.name()\n",
    "        if lemma.lower()==word.lower():\n",
    "            count=l1.count()\n",
    "            sum_count1=sum_count1+count\n",
    "    \n",
    "    if sum_count0==0:\n",
    "        return False\n",
    "    else:\n",
    "        return sum_count0>=4*sum_count1\n",
    "\n",
    "#filter gold standard\n",
    "for key,value in filtered_gold_standard.items():\n",
    "    #test if both of them have single primary sense\n",
    "    if haveSinglePrimarySense(key[0]) and haveSinglePrimarySense(key[1]):\n",
    "        final_gold_standard[key]=value\n",
    "\n",
    "###\n",
    "# Your answer ENDS HERE\n",
    "###\n",
    "\n",
    "print(len(final_gold_standard))\n",
    "print(final_gold_standard)"
   ]
  },
  {
   "cell_type": "markdown",
   "metadata": {
    "colab_type": "text",
    "id": "cWgLNH3LcY45"
   },
   "source": [
    "<b>For your testing:</b>"
   ]
  },
  {
   "cell_type": "code",
   "execution_count": 0,
   "metadata": {
    "colab": {},
    "colab_type": "code",
    "id": "th1NNkYZcY45"
   },
   "outputs": [],
   "source": [
    "assert(len(final_gold_standard) > 10 and len(final_gold_standard) < 40)\n",
    "assert(final_gold_standard[('professor', 'doctor')] == 6.62)"
   ]
  },
  {
   "cell_type": "markdown",
   "metadata": {
    "colab_type": "text",
    "id": "CnVPXtiLcY5E"
   },
   "source": [
    "## 2. Computing word similiarity with Lin similarity, NPMI and LSA (3 marks)"
   ]
  },
  {
   "cell_type": "markdown",
   "metadata": {
    "colab_type": "text",
    "id": "rSK4x4IBcY5F"
   },
   "source": [
    "### Question 3 (1.0 mark)\n",
    "\n",
    "<b>Instructions</b>: Now you will create several dictionaries with similarity scores for pairs of words in your test set derived using the techniques discussed in class. The first of these is the Lin similarity for your word pairs using the information content of the Brown corpus, which you should calculate using the primary sense for each word derived above. You can use the built-in method included in the NLTK interface, you don't have to implement your own. \n",
    "\n",
    "When you're done, you should store the word pair and similarity mappings in a dictionary called *lin_similarities*.\n",
    "\n",
    "**Task**: Compute word pair similarity using Lin similarity for the test set. Produce *lin_similarities*, a dictionary of word pairs (keys) and computed Lin similarity scores (values).\n",
    "\n",
    "**Check**: Use the assertion statements in *\"For your testing\"* below for the expected *lin_similarities*. "
   ]
  },
  {
   "cell_type": "code",
   "execution_count": 41,
   "metadata": {
    "colab": {
     "base_uri": "https://localhost:8080/",
     "height": 88
    },
    "colab_type": "code",
    "id": "spSqNWwbcY5G",
    "outputId": "a3eecf59-2177-4a49-ac7a-e524e65c515b",
    "scrolled": true
   },
   "outputs": [
    {
     "name": "stdout",
     "output_type": "stream",
     "text": [
      "[nltk_data] Downloading package wordnet_ic to /root/nltk_data...\n",
      "[nltk_data]   Package wordnet_ic is already up-to-date!\n",
      "{('bread', 'butter'): 0.711420490146294, ('professor', 'doctor'): 0.7036526610448273, ('student', 'professor'): 0.26208607023317687, ('stock', 'egg'): -0.0, ('money', 'cash'): 0.7888839126424345, ('king', 'queen'): 0.25872135992145145, ('bishop', 'rabbi'): 0.6655650900427844, ('football', 'basketball'): 0.7536025025710653, ('football', 'tennis'): 0.7699955045932811, ('alcohol', 'chemistry'): 0.062235427146896456, ('baby', 'mother'): 0.6315913189894092, ('car', 'automobile'): 1.0, ('journey', 'voyage'): 0.6969176573027711, ('coast', 'shore'): 0.9632173804623256, ('brother', 'monk'): 0.24862817480738675, ('journey', 'car'): -0.0, ('coast', 'hill'): 0.5991131628821826, ('forest', 'graveyard'): -0.0, ('monk', 'slave'): 0.2543108201944307, ('coast', 'forest'): -0.0, ('psychology', 'doctor'): -0.0, ('psychology', 'mind'): 0.304017384194818, ('psychology', 'health'): 0.06004979886905243, ('psychology', 'science'): 0.8474590505736942, ('planet', 'moon'): 0.7808882364067532, ('planet', 'galaxy'): -0.0}\n"
     ]
    }
   ],
   "source": [
    "from nltk.corpus import wordnet_ic\n",
    "nltk.download('wordnet_ic')\n",
    "\n",
    "# lin_similarities stores the word pair and Lin similarity mappings\n",
    "lin_similarities = {}\n",
    "\n",
    "###\n",
    "# Your answer BEGINS HERE\n",
    "###\n",
    "#load information content in brown corpus\n",
    "ic=wordnet_ic.ic('ic-brown.dat')\n",
    "#iterate over the final gold standard, and calculate Lin similarities\n",
    "for key in list(final_gold_standard.keys()):\n",
    "    #get the first and second word senses\n",
    "    sense0=word_primarysense[key[0]]\n",
    "    sense1=word_primarysense[key[1]]\n",
    "    #calculate Lin similarity\n",
    "    lin=sense0.lin_similarity(sense1,ic)\n",
    "    #store result\n",
    "    lin_similarities[key]=lin\n",
    "\n",
    "\n",
    "###\n",
    "# Your answer ENDS HERE\n",
    "###\n",
    "\n",
    "print(lin_similarities)"
   ]
  },
  {
   "cell_type": "markdown",
   "metadata": {
    "colab_type": "text",
    "id": "GDbnoh-qcY5I"
   },
   "source": [
    "<b>For your testing:</b>"
   ]
  },
  {
   "cell_type": "code",
   "execution_count": 0,
   "metadata": {
    "colab": {},
    "colab_type": "code",
    "id": "yH_6wsW6cY5J"
   },
   "outputs": [],
   "source": [
    "assert(lin_similarities[('professor', 'doctor')] > 0.5 and lin_similarities[('professor', 'doctor')] < 1)"
   ]
  },
  {
   "cell_type": "markdown",
   "metadata": {
    "colab_type": "text",
    "id": "m7FXoMudcY5P"
   },
   "source": [
    "### Question 4 (1.0 mark)\n",
    "\n",
    "**Instructions:** Next, you will calculate Normalized PMI (NPMI) for your word pairs using word frequency derived from the Brown.\n",
    "\n",
    "PMI is defined as:\n",
    "\n",
    "\\begin{equation*}\n",
    "PMI = \\log_2\\left(\\frac{p(x,y)}{p(x)p(y)}\\right)\n",
    "\\end{equation*}\n",
    "\n",
    "where\n",
    "\n",
    "\\begin{equation*}\n",
    "p(x,y) = \\frac{\\text{Number of paragraphs with the co-occurrence of x and y}}{\\sum_i \\text{Number of word types in paragraph}_i}\n",
    "\\end{equation*}\n",
    "\n",
    "\\begin{equation*}\n",
    "p(x) = \\frac{\\text{Number of paragraphs with the occurrence of x}}{\\sum_i \\text{Number of word types in paragraph}_i}\n",
    "\\end{equation*}\n",
    "\n",
    "\\begin{equation*}\n",
    "p(y) = \\frac{\\text{Number of paragraphs with the occurrence of y}}{\\sum_i \\text{Number of word types in paragraph}_i}\n",
    "\\end{equation*}\n",
    "\n",
    "with the sum over $i$ ranging over all paragraphs. Note that there are other ways PMI could be formulated.\n",
    "\n",
    "NPMI is defined as:\n",
    "\n",
    "\\begin{equation*}\n",
    "NPMI = \\frac{PMI}{-log_2(p(x,y))} = \\frac{log_2(p(x)p(y))}{log_2(p(x,y))} - 1\n",
    "\\end{equation*}\n",
    "\n",
    "Thus, when there is no co-occurrence, NPMI is -1. NPMI is normalized between [-1, +1]. \n",
    "\n",
    "You should use the *brown_corpus* object you've created in question 1 as your corpus here. You need to use the basic method for calculating PMI introduced in class (and also in the reading) which is appropriate for any possible definition of co-occurrence (here, there is co-occurrence when a word pair appears in the same paragraph), but you should only calculate PMI for the words in your test set. You must avoid building the entire co-occurrence matrix, instead you should keeping track of the sums you need for the probabilities as you go along. \n",
    "\n",
    "When you have calculated NPMI for all the pairs, you should store the word pair and NPMI-similarity mappings in a dictionary called *NPMI_similarities*.\n",
    "\n",
    "**Task**: Compute word pair similarity using NPMI similarity for the test set. Produce *NPMI_similarities*, a dictionary of word pairs (keys) and computed NPMI similarity scores (values).\n",
    "\n",
    "**Check**: Use the assertion statements in *\"For your testing\"* below for the expected *NPMI_similarities*."
   ]
  },
  {
   "cell_type": "code",
   "execution_count": 44,
   "metadata": {
    "colab": {
     "base_uri": "https://localhost:8080/",
     "height": 54
    },
    "colab_type": "code",
    "id": "1yoPO9BecY5Q",
    "outputId": "6bdbf070-f6a4-4295-b655-ed5215f41884",
    "scrolled": false
   },
   "outputs": [
    {
     "name": "stdout",
     "output_type": "stream",
     "text": [
      "{('bread', 'butter'): 0.5345151842582327, ('professor', 'doctor'): -1, ('student', 'professor'): 0.35506998677905255, ('stock', 'egg'): 0.17565558576760232, ('money', 'cash'): 0.255136678067456, ('king', 'queen'): 0.2404398547154747, ('bishop', 'rabbi'): -1, ('football', 'basketball'): 0.6191546407863497, ('football', 'tennis'): -1, ('alcohol', 'chemistry'): 0.5100013701085555, ('baby', 'mother'): 0.3322049774484772, ('car', 'automobile'): 0.3631907793760183, ('journey', 'voyage'): -1, ('coast', 'shore'): 0.4362988887339576, ('brother', 'monk'): 0.25583200784673155, ('journey', 'car'): -1, ('coast', 'hill'): 0.13753445378066775, ('forest', 'graveyard'): -1, ('monk', 'slave'): -1, ('coast', 'forest'): 0.28033635534315904, ('psychology', 'doctor'): 0.29681680230681917, ('psychology', 'mind'): 0.26479501562071417, ('psychology', 'health'): -1, ('psychology', 'science'): 0.4509746030184476, ('planet', 'moon'): 0.5341647266938854, ('planet', 'galaxy'): -1}\n"
     ]
    }
   ],
   "source": [
    "import math\n",
    "# NPMI_similarities stores the word pair and NPMI similarity mappings\n",
    "NPMI_similarities = {}\n",
    "\n",
    "###\n",
    "# Your answer BEGINS HERE\n",
    "###\n",
    "\n",
    "#calculate the total number of word occurences\n",
    "def caltotal():\n",
    "    #wordlist stores all words in brown_corpus\n",
    "    wordlist=[]\n",
    "    for doc in brown_corpus:\n",
    "        for token in doc:\n",
    "            if token not in wordlist:\n",
    "                wordlist.append(token)\n",
    "    #the function returns the length of wordlist, which is the number of total word occurences\n",
    "    return len(wordlist)\n",
    "\n",
    "#calculate the number of occurences of a given word\n",
    "def caloccur(word):\n",
    "    count=0\n",
    "    for doc in brown_corpus:\n",
    "        #if the word occurs in the document, increase count\n",
    "        if word in doc:\n",
    "            count=count+1\n",
    "            \n",
    "    return count\n",
    "\n",
    "\n",
    "#calculate the number of cooccurences of given two words\n",
    "def calcooccur(word1,word2):\n",
    "    count=0\n",
    "    for doc in brown_corpus:\n",
    "        #if both words occur in the same document, then increase count\n",
    "        if (word1 in doc) and (word2 in doc):\n",
    "            count=count+1\n",
    "    return count\n",
    "#get the total number of word occurences\n",
    "N=caltotal()\n",
    "#get the probability of word cooccurences\n",
    "def pxy(x,y):\n",
    "    return calcooccur(x,y)/N\n",
    "#get the probability of word occurences\n",
    "def p(word):\n",
    "    return caloccur(word)/N\n",
    "#get the final NPMI value of given two words\n",
    "def npmi(x,y):\n",
    "    p_cooccur=pxy(x,y)\n",
    "    if p_cooccur==0:\n",
    "        return -1\n",
    "    else:\n",
    "        return math.log(p(x)*p(y),2)/math.log(p_cooccur,2)-1\n",
    "#iterate the final gold standard, and store the NPMI result\n",
    "for key in list(final_gold_standard.keys()):\n",
    "    NPMI_similarities[key]=npmi(key[0],key[1])\n",
    "\n",
    "###\n",
    "# Your answer ENDS HERE\n",
    "###\n",
    "\n",
    "print(NPMI_similarities)"
   ]
  },
  {
   "cell_type": "markdown",
   "metadata": {
    "colab_type": "text",
    "id": "1uJbBXzfcY5S"
   },
   "source": [
    "<b>For your testing:</b>"
   ]
  },
  {
   "cell_type": "code",
   "execution_count": 0,
   "metadata": {
    "colab": {},
    "colab_type": "code",
    "id": "-nhg3YOBcY5S"
   },
   "outputs": [],
   "source": [
    "assert(NPMI_similarities[('professor', 'doctor')] == -1)"
   ]
  },
  {
   "cell_type": "markdown",
   "metadata": {
    "colab_type": "text",
    "id": "1hfkyiBkcY5a"
   },
   "source": [
    "### Question 5 (1.0 mark)\n",
    "\n",
    "**Instructions:** Here we'll use singular value decomposition (SVD) to derive similarity scores using the Latent Semantic Analysis (LSA) method. Recall that LSA applies SVD and truncation to get a dense vector representation of a word type. To measure similarity between two words we calculate cosine similarity between the LSA vectors of the words.\n",
    "\n",
    "We'll first build a term-document frequency matrix (as before, a document is a paragraph in Brown corpus). That is, the rows corresponds to words in the vocabulary, and the columns represent the paragraphs/documents in Brown corpus. Each cell records the document frequency of a word (1 if the word appears in the document, 0 otherwise). You should use the *brown_corpus* object created in question 1 as your corpus to build the term-document frequency matrix.\n",
    "\n",
    "Given the term-document frequency matrix, we'll use `truncatedSVD` in `sklearn` to produce dense vectors of length k = 500, and then use cosine similarity to produce similarities for the word pairs in the test set.\n",
    "\n",
    "You can use the workshop's notebook on distributional similarity (``09-distributional-similarity.ipynb``) as a starting point, but note that we use term-document frequency matrix (as opposed to the tf-idf matrix in the workshop).\n",
    "\n",
    "When you are done, you should store the word pair and LSA-similarity mappings in a dictionary called *LSA_similarities*.\n",
    "\n",
    "**Task**: Compute word pair similarity using LSA. Produce *LSA_similarities*, a dictionary of word pairs (keys) and computed LSA similarity scores (values).\n",
    "\n",
    "**Check**: Use the assertion statements in *\"For your testing\"* below for the expected *LSA_similarities*. \n",
    "\n"
   ]
  },
  {
   "cell_type": "code",
   "execution_count": 48,
   "metadata": {
    "colab": {
     "base_uri": "https://localhost:8080/",
     "height": 54
    },
    "colab_type": "code",
    "id": "5qg8WfjVcY5b",
    "outputId": "9cde42c5-ba8d-421c-ec1d-c326f4f7743f",
    "scrolled": false
   },
   "outputs": [
    {
     "name": "stdout",
     "output_type": "stream",
     "text": [
      "{('bread', 'butter'): 0.3066013916675333, ('professor', 'doctor'): 0.04216174334737762, ('student', 'professor'): 0.28812390586380254, ('stock', 'egg'): 0.10838154002348296, ('money', 'cash'): 0.091898144988949, ('king', 'queen'): 0.09135403102883734, ('bishop', 'rabbi'): 0.03981066488050217, ('football', 'basketball'): 0.2751932178854581, ('football', 'tennis'): 0.15968431251967835, ('alcohol', 'chemistry'): 0.09913541330587054, ('baby', 'mother'): 0.34931534842714196, ('car', 'automobile'): 0.3459890233444121, ('journey', 'voyage'): 0.07959677694422683, ('coast', 'shore'): 0.43434943558522815, ('brother', 'monk'): 0.05171394832523009, ('journey', 'car'): -0.013965150887771074, ('coast', 'hill'): 0.21202295295396067, ('forest', 'graveyard'): 0.06328330404583372, ('monk', 'slave'): -0.028972745607760267, ('coast', 'forest'): 0.12033702166706951, ('psychology', 'doctor'): 0.11648070031140519, ('psychology', 'mind'): 0.10632384808105998, ('psychology', 'health'): 0.049515728943221225, ('psychology', 'science'): 0.254143695778486, ('planet', 'moon'): 0.4188467005578104, ('planet', 'galaxy'): 0.09540513306524173}\n"
     ]
    }
   ],
   "source": [
    "from sklearn.feature_extraction import DictVectorizer\n",
    "from sklearn.decomposition import TruncatedSVD\n",
    "from scipy.sparse import csr_matrix\n",
    "import numpy as np\n",
    "from numpy.linalg import norm\n",
    "# LSA_similarities stores the word pair and LSA similarity mappings\n",
    "LSA_similarities = {}\n",
    "\n",
    "###\n",
    "# Your answer BEGINS HERE\n",
    "###\n",
    "\n",
    "#return a term-frequency dictionary for a given document\n",
    "def gettf_dict(doc):\n",
    "    tf_dict={}\n",
    "    for word in doc:\n",
    "        tf_dict[word]=1\n",
    "    return tf_dict\n",
    "#calculate the cosine similarity of two words\n",
    "def cos_sim(a, b):\n",
    "    return np.dot(a, b)/(norm(a)*norm(b))\n",
    "\n",
    "list_=[]\n",
    "for doc in brown_corpus:\n",
    "    list_.append(gettf_dict(doc))\n",
    "#produce dense vectors\n",
    "vectorizer = DictVectorizer()\n",
    "matrix=vectorizer.fit_transform(list_)\n",
    "matrix_transposed=csr_matrix(matrix).transpose()\n",
    "svd=TruncatedSVD(n_components=500)\n",
    "newmatrix=svd.fit_transform(matrix_transposed)\n",
    "#iterate over final gold standard, calculate and store the LSA similarities\n",
    "for key in list(final_gold_standard.keys()):\n",
    "    v1=newmatrix[vectorizer.vocabulary_[key[0]]]\n",
    "    v2=newmatrix[vectorizer.vocabulary_[key[1]]]\n",
    "    LSA_similarities[(key[0],key[1])]=cos_sim(v1,v2)\n",
    "###\n",
    "# Your answer ENDS HERE\n",
    "###\n",
    "\n",
    "print(LSA_similarities)"
   ]
  },
  {
   "cell_type": "markdown",
   "metadata": {
    "colab_type": "text",
    "id": "dLtjcNgIcY5d"
   },
   "source": [
    "<b>For your testing:</b>"
   ]
  },
  {
   "cell_type": "code",
   "execution_count": 0,
   "metadata": {
    "colab": {},
    "colab_type": "code",
    "id": "oZ0sUZbNcY5e"
   },
   "outputs": [],
   "source": [
    "assert(LSA_similarities[('professor', 'doctor')] > 0 and LSA_similarities[('professor', 'doctor')] < 0.4)"
   ]
  },
  {
   "cell_type": "markdown",
   "metadata": {
    "colab_type": "text",
    "id": "MK2BtNmygzol"
   },
   "source": [
    "## Computing word similarity with feedforward language model (3 marks)"
   ]
  },
  {
   "cell_type": "markdown",
   "metadata": {
    "colab_type": "text",
    "id": "Rqk8OQfPgzom"
   },
   "source": [
    "### Question 6 (1.0 mark)\n",
    "\n",
    "**Instructions**: Here we'll build a n-gram neural language model to learn word embeddings, and compute word similarity based on the word embeddings. As before we will use the Brown corpus as training data for our language model, and the first step is to collect the vocabulary.\n",
    "\n",
    "As before, we'll treat paragraphs in the Brown corpus as our documents. The first 12K paragraphs/documents will serve as our training data, and the rest (3K+ documents) as development data. The first step towards building a language model is to collect the vocabulary, i.e. the set of unique word types in our training data. When collecting the word types, you should lowercase all words, and only keep word types that have a frequency $>= 5$. Store your vocabulary in the _vocab_ object.\n",
    "\n",
    "Note: \n",
    "  - we'll be using _$<$UNK$>$_ to represent unseen words, and so _vocab_ is initialised with the special _$<$UNK$>$_.\n",
    "  - you do not need to do any other additional preprocessing aside from the aforementioned steps (e.g. no need to remove symbols, etc)\n",
    "  - you should not use *brown_corpus* here, as you need the words in their original order (*brown_corpus* stores a set of words for each paragraph, and so do not contain word order information)\n",
    "\n",
    "**Task**: Collect a set of unique word types in the training portion (first 12K paragraphs) of the Brown corpus. Produce _vocab_, which is a set that contains all the word types.\n",
    "\n",
    "**Check**: Use the assertion statements in *\"For your testing\"* below to check the vocabulary size."
   ]
  },
  {
   "cell_type": "code",
   "execution_count": 50,
   "metadata": {
    "colab": {
     "base_uri": "https://localhost:8080/",
     "height": 34
    },
    "colab_type": "code",
    "id": "u2HdOXvYcY5k",
    "outputId": "facbc847-3b18-49d2-d21f-45a47197436f"
   },
   "outputs": [
    {
     "name": "stdout",
     "output_type": "stream",
     "text": [
      "14037\n"
     ]
    }
   ],
   "source": [
    "num_train = 12000\n",
    "UNK_symbol = \"<UNK>\"\n",
    "vocab = set([UNK_symbol])\n",
    "\n",
    "###\n",
    "# Your answer BEGINS HERE\n",
    "###\n",
    "v=list(vocab)\n",
    "\n",
    "\n",
    "brown_raw=brown.paras()\n",
    "\n",
    "#collect all tokens in brown corpus, and store them in a list\n",
    "tokens=[]\n",
    "for par in brown_raw:\n",
    "    for sen in par:\n",
    "        for word in sen:\n",
    "            tokens.append(word.lower())\n",
    "\n",
    "\n",
    "#get the word types in training set\n",
    "for par in brown_raw[0:num_train]:\n",
    "    for sen in par:\n",
    "        for word in sen:\n",
    "            if word.lower() not in v:\n",
    "                v.append(word.lower())\n",
    "\n",
    "#remove word types that has a frequency less than 5\n",
    "for ele in v:\n",
    "    \n",
    "    if tokens.count(ele)>=5:\n",
    "        vocab.add(ele)\n",
    "\n",
    "\n",
    "\n",
    "\n",
    "###\n",
    "# Your answer ENDS HERE\n",
    "###\n",
    "\n",
    "print(len(vocab))"
   ]
  },
  {
   "cell_type": "markdown",
   "metadata": {
    "colab_type": "text",
    "id": "tmkYWvLCgzop"
   },
   "source": [
    "**For your testing:**"
   ]
  },
  {
   "cell_type": "code",
   "execution_count": 0,
   "metadata": {
    "colab": {},
    "colab_type": "code",
    "id": "PWf4NT4hgzop"
   },
   "outputs": [],
   "source": [
    "assert(len(vocab) > 8000 and len(vocab) < 20000)"
   ]
  },
  {
   "cell_type": "markdown",
   "metadata": {
    "colab_type": "text",
    "id": "MpC11Yetgzor"
   },
   "source": [
    "### Question 7 (1.0 mark)\n",
    "\n",
    "**Instructions**: As we'll be building a trigram neural language model (based on lecture 7, page 20), the next step is to collect trigrams to construct our training data. In a trigram neural language model, for example if we have the trigram _cow eats grass_, the input to the model is the first two terms of a trigram (_cow_ and _eats_), and the language model's aim is to predict the last term of the trigram (_grass_). Your task here is to construct the training and development data for the language model. Just like the previous step, the first 12K paragraphs will serve as our training data, and the remaining 3K+ will be for development. You'll need to map words into IDs when constructing the training and development data. Any words that are not in _vocab_ should be mapped to the special _$<$UNK$>$_ symbol.\n",
    "\n",
    "As an example, given the sentence \"_a big fat hungry cow ._\", you should create the following training examples:\n",
    "\n",
    "|input|target|\n",
    "|:---:|:----:|\n",
    "|<i>a</i>, _big_|_fat_|\n",
    "|_big_, _fat_|_hungry_|\n",
    "|_fat_, _hungry_|_cow_|\n",
    "|_hungry_, _cow_|_._|\n",
    "\n",
    "\n",
    "Note:\n",
    "   - _vocab_ is a set and so does not map words into IDs. You'll need to create a word to ID mapping first based on _vocab_.\n",
    "   - A trigram should not cross sentence boundary.\n",
    "   - You should ignore sentences that have less than 3 words (as they are too short to form trigrams).\n",
    "   - We won't need special starting symbol when collecting the trigrams, as we are only interested in learning word embeddings here (and not computing probabilities of a sentence).\n",
    "\n",
    "\n",
    "**Task**: Create training and development data. The training input and target data should be stored in the <i>x_train</i> and <i>y_train</i> respectively, and development input and target data in <i>x_dev</i> and <i>y_dev</i> respectively.\n",
    "\n",
    "**Check**: Use the assertion statements in *\"For your testing\"* below for the expected shape of the outputs."
   ]
  },
  {
   "cell_type": "code",
   "execution_count": 13,
   "metadata": {
    "colab": {
     "base_uri": "https://localhost:8080/",
     "height": 85
    },
    "colab_type": "code",
    "id": "hfqrycnsgzos",
    "outputId": "fb5c3fc5-368e-419d-8aa6-038c75374ca0"
   },
   "outputs": [
    {
     "name": "stdout",
     "output_type": "stream",
     "text": [
      "(872823, 2)\n",
      "(872823,)\n",
      "(174016, 2)\n",
      "(174016,)\n"
     ]
    }
   ],
   "source": [
    "import numpy as np\n",
    "###\n",
    "# Your answer BEGINS HERE\n",
    "###\n",
    "\n",
    "#map the word into ID\n",
    "def mapID(word):\n",
    "    global vocab\n",
    "    global UNK_symbol\n",
    "    #change set into a list\n",
    "    vlist=list(vocab)\n",
    "    #map the existed word into the index\n",
    "    #map the non-existed word into <UNK> index\n",
    "    if word.lower() in vlist:\n",
    "        return vlist.index(word.lower())\n",
    "    else:\n",
    "        return vlist.index(UNK_symbol)\n",
    "\n",
    "x_train=[]\n",
    "y_train=[]\n",
    "x_dev=[]\n",
    "y_dev=[]\n",
    "#create training and development data\n",
    "i=0\n",
    "for par in brown_raw:\n",
    "    for sen in par:\n",
    "        for j in range(0,len(sen)-2):\n",
    "            #among the 3 words, the first 2 words are inputs, and the remaining 1 word is target word\n",
    "            input0=mapID(sen[j])\n",
    "            input1=mapID(sen[j+1])\n",
    "            target=mapID(sen[j+2])\n",
    "            #judge whether to put them in training set or testing set by i\n",
    "            if i<num_train:\n",
    "                x_train.append([input0,input1])\n",
    "                y_train.append(target)\n",
    "            else:\n",
    "                x_dev.append([input0,input1])\n",
    "                y_dev.append(target)\n",
    "    i=i+1\n",
    "x_train=np.array(x_train)\n",
    "x_dev=np.array(x_dev)\n",
    "y_train=np.array(y_train)\n",
    "y_dev=np.array(y_dev)\n",
    "\n",
    "\n",
    "\n",
    "\n",
    "\n",
    "\n",
    "###\n",
    "# Your answer ENDS HERE\n",
    "###\n",
    "\n",
    "    \n",
    "print(x_train.shape)\n",
    "print(y_train.shape)\n",
    "print(x_dev.shape)\n",
    "print(y_dev.shape)"
   ]
  },
  {
   "cell_type": "markdown",
   "metadata": {
    "colab_type": "text",
    "id": "eT0ZUPRSgzou"
   },
   "source": [
    "**For your testing:**"
   ]
  },
  {
   "cell_type": "code",
   "execution_count": 0,
   "metadata": {
    "colab": {},
    "colab_type": "code",
    "id": "9pShSjp4gzov"
   },
   "outputs": [],
   "source": [
    "assert(x_train.shape[0] == y_train.shape[0])\n",
    "assert(x_dev.shape[0] == y_dev.shape[0])\n",
    "assert(x_train.shape[0] > 500000)\n",
    "assert(x_dev.shape[0] > 50000)"
   ]
  },
  {
   "cell_type": "markdown",
   "metadata": {
    "colab_type": "text",
    "id": "v87w0_lQgzox"
   },
   "source": [
    "### Question 8 (1.0 mark)\n",
    "\n",
    "**Instructions**: Now let's build the trigram neural language model. We'll use the language model described in lecture 7 (page 20):\n",
    "\n",
    "$x' = e(x_1) \\oplus e(x_2)$\n",
    "\n",
    "$h = \\tanh(W_1 x' + b)$\n",
    "\n",
    "$y = $ softmax$(W_2 h)$\n",
    "\n",
    "where $\\oplus$ is the concatenation operation, $x_1$ and $x_2$ are the input words, $e$ is an embedding function, and $y$ is the target word. You can use either `keras` or `pytorch` for building your model.\n",
    "\n",
    "Set the dimension of the word embeddings and $h$ to 100, and train your model with 3 epochs with a batch size of 256. You will not need to tune hyper-parameters for this task.\n",
    "\n",
    "After the model is trained, use the word embeddings to compute word similarity in the test set. Store the similarity scores in a dictionary called *lm_similarities*.\n",
    "\n",
    "Note:\n",
    "  - For words in the test set that are not in your vocabulary, you should treat them as unknown words. In other words, you should use $<$UNK$>$'s embedding to represent these words.\n",
    "  - The training may take some time on CPU. You can run your notebook on colab with a GPU if you want faster training (see the programming exercise in workshop-07 if you're not familiar with colab)\n",
    "\n",
    "**Task**: Train a trigram neural language model, and use the learned word embeddings to compute word similarity. Produce *lm_similarities*, a dictionary that contains word pairs as keys and similarity scores as values."
   ]
  },
  {
   "cell_type": "code",
   "execution_count": 31,
   "metadata": {
    "colab": {
     "base_uri": "https://localhost:8080/",
     "height": 54
    },
    "colab_type": "code",
    "id": "qlVRe-opcY5n",
    "outputId": "370f25b6-3955-434f-a8d1-9b372c6bbfe6"
   },
   "outputs": [
    {
     "name": "stdout",
     "output_type": "stream",
     "text": [
      "{('bread', 'butter'): -0.18302849, ('professor', 'doctor'): -0.12192361, ('student', 'professor'): -0.0347743, ('stock', 'egg'): -0.02946542, ('money', 'cash'): 0.006176472, ('king', 'queen'): -0.021939944, ('bishop', 'rabbi'): 0.049883816, ('football', 'basketball'): -0.011249224, ('football', 'tennis'): 0.13576242, ('alcohol', 'chemistry'): 0.061158713, ('baby', 'mother'): -0.15232055, ('car', 'automobile'): -0.041874226, ('journey', 'voyage'): -0.13344817, ('coast', 'shore'): -0.050318457, ('brother', 'monk'): 0.12634884, ('journey', 'car'): -0.1332163, ('coast', 'hill'): 0.089358956, ('forest', 'graveyard'): -0.06495038, ('monk', 'slave'): 0.1731685, ('coast', 'forest'): -0.09751066, ('psychology', 'doctor'): -0.07891187, ('psychology', 'mind'): 0.064729154, ('psychology', 'health'): 0.04855015, ('psychology', 'science'): 0.21594372, ('planet', 'moon'): 0.015948562, ('planet', 'galaxy'): -0.065028876}\n"
     ]
    }
   ],
   "source": [
    "\n",
    "import math\n",
    "import torch\n",
    "from torch import nn, optim\n",
    "\n",
    "\n",
    "\n",
    "lm_similarities = {}\n",
    "\n",
    "###\n",
    "# Your answer BEGINS HERE\n",
    "###\n",
    "\n",
    "\n",
    "#define a class to generate n-gram model\n",
    "class n_gram(nn.Module):\n",
    "    #constructor\n",
    "    def __init__(self, v_len, n, emb_num):\n",
    "        super(n_gram, self).__init__()\n",
    "        #embedding layer\n",
    "        self.embed = nn.Embedding(v_len, emb_num)\n",
    "        #classification layer\n",
    "        self.classify = nn.Sequential(\n",
    "            nn.Linear(n * emb_num, 100),   \n",
    "            nn.Tanh(),\n",
    "            nn.Linear(100, v_len)\n",
    "        )\n",
    "    #feedforward function\n",
    "    def forward(self, x):\n",
    "        #get the word embeddings\n",
    "        w_embed = self.embed(x)  \n",
    "        #concantenate the two vectors\n",
    "        w_embed = w_embed.view(1, -1)  \n",
    "        #feed it to the classification layer\n",
    "        res = self.classify(w_embed)   \n",
    "        #get the result\n",
    "        return res\n",
    "    #calculate the similarities between two words by word embedding vectors\n",
    "    def get_sim(self,word):\n",
    "        #get word embeddings\n",
    "        w_emb=self.embed(word)\n",
    "        #change it into array\n",
    "        arr=w_emb.detach().numpy()\n",
    "        #get the first and second vectors\n",
    "        l0=arr[0]\n",
    "        l1=arr[1]\n",
    "        #calculate the cosine similarities\n",
    "        sim=cos_sim(l0,l1)\n",
    "        #return the result\n",
    "        return sim\n",
    "\n",
    "#generate the model\n",
    "model = n_gram(len(vocab), 2, 100)\n",
    "#define the loss function\n",
    "loss_func = nn.CrossEntropyLoss()\n",
    "#define the optimizer\n",
    "optimizer = optim.SGD(model.parameters(), lr=0.01, weight_decay=0.00001)\n",
    "#iterate over 3 epochs\n",
    "for epoch in range(0,3):\n",
    "    #store the loss\n",
    "    train_loss=0\n",
    "    #iterate by batch size\n",
    "    for i in range(0,math.ceil(len(x_train)/256)):\n",
    "        #define the beginning and ending index\n",
    "        begin=i*256\n",
    "        end=(i+1)*256\n",
    "        if end>len(x_train):\n",
    "            end=len(x_train)\n",
    "        #generate the training data and their results\n",
    "        w0arr=x_train[begin:end,0]\n",
    "        w1arr=x_train[begin:end,1]\n",
    "        rarr=y_train[begin:end]\n",
    "        #feed them one by one to the neural networks\n",
    "        for j in range(0,len(w0arr)):\n",
    "            #gernerate word index from array\n",
    "            word0=w0arr[j]\n",
    "            word1=w1arr[j]\n",
    "            res=rarr[j]\n",
    "            #generate tensor from indexes\n",
    "            word = torch.LongTensor([word0,word1])\n",
    "            \n",
    "            result=torch.LongTensor([res])\n",
    "            #calculate the estimated result\n",
    "            est = model(word)\n",
    "            #compare it with the ground truth\n",
    "            loss = loss_func(est, result)\n",
    "            train_loss += loss.item()\n",
    "            #backpropogation\n",
    "            optimizer.zero_grad()\n",
    "            loss.backward()\n",
    "            optimizer.step()\n",
    "\n",
    "#generate the test dataset (word indexes)\n",
    "x_test=[]\n",
    "templist_test=list(final_gold_standard.keys())\n",
    "for key in templist_test:\n",
    "    x_test.append([mapID(key[0]),mapID(key[1])])\n",
    "x_test=np.array(x_test)\n",
    "\n",
    "\n",
    "for i in range(0,len(x_test)):\n",
    "    #get the word indexes\n",
    "    word0=x_test[i,0]\n",
    "    word1=x_test[i,1]\n",
    "    #generate into tensor\n",
    "    word = torch.LongTensor([word0,word1])\n",
    "    #calculate the similarities\n",
    "    sim_value=model.get_sim(word)\n",
    "    #store the similarities\n",
    "    lm_similarities[templist_test[i]]=sim_value\n",
    "\n",
    "\n",
    "\n",
    "\n",
    "\n",
    "###\n",
    "# Your answer ENDS HERE\n",
    "###\n",
    "\n",
    "\n",
    "print(lm_similarities)"
   ]
  },
  {
   "cell_type": "markdown",
   "metadata": {
    "colab_type": "text",
    "id": "qTgtO9-pcY5q"
   },
   "source": [
    "## 3. Comparison with the Gold Standard (1 mark)"
   ]
  },
  {
   "cell_type": "markdown",
   "metadata": {
    "colab_type": "text",
    "id": "5UpgjOKmcY5r"
   },
   "source": [
    "### Question 9 (1.0 mark)\n",
    "\n",
    "**Instructions:** Finally, you should compare all the similarities you've created to the gold standard you loaded and filtered in the first step. For this, you can use the Pearson correlation co-efficient (`pearsonr`), which is included in scipy (`scipy.stats`). Be careful converting your dictionaries to lists for this purpose, the data for the two datasets needs to be in the same order for correct comparison using correlation. Write a general function, then apply it to each of the similarity score dictionaries.\n",
    "\n",
    "When you are done, you should put the result in a dictionary called *pearson_correlations* (use the keys: 'lin', 'NPMI', 'LSA', 'lm').\n",
    "\n",
    "**Task**: Compute the Pearson correlation coefficient between the estimated similarity scores (Lin, NPMI and LSA similarities) and the gold standard similarity ratings. Produce *pearson_correlations*, a dictionary containing the methods as keys and correlations as values.\n",
    "\n",
    "**Check**: Use the assertion statements in *\"For your testing\"* below for the expected *pearson_correlations*. \n",
    "\n",
    "<b>Hint:</b> All of the methods used here should be markedly above 0, but also far from 1 (perfect correlation); if you're not getting reasonable results, go back and check your code for bugs! "
   ]
  },
  {
   "cell_type": "code",
   "execution_count": 35,
   "metadata": {
    "colab": {
     "base_uri": "https://localhost:8080/",
     "height": 54
    },
    "colab_type": "code",
    "id": "oAgJwXhxcY5r",
    "outputId": "3b3c38c4-de36-47ab-88c9-ec9f1e86d115"
   },
   "outputs": [
    {
     "name": "stdout",
     "output_type": "stream",
     "text": [
      "{'lin': 0.5301489978447533, 'NPMI': 0.19362833174466434, 'LSA': 0.41702544529412355, 'lm': -0.18669149102396046}\n"
     ]
    }
   ],
   "source": [
    "from scipy.stats import pearsonr\n",
    "\n",
    "# pearson_correlations stores the pearson correlations with the gold standard of 'lin', 'NPMI', 'LSA', 'lm'\n",
    "pearson_correlations = {}\n",
    "\n",
    "###\n",
    "# Your answer BEGINS HERE\n",
    "###\n",
    "\n",
    "#change the dictionary into lists\n",
    "linlist=[]\n",
    "NPMIlist=[]\n",
    "LSAlist=[]\n",
    "lmlist=[]\n",
    "truelist=[]\n",
    "for key,value in final_gold_standard.items():\n",
    "    linlist.append(lin_similarities[key])\n",
    "    NPMIlist.append(NPMI_similarities[key])\n",
    "    LSAlist.append(LSA_similarities[key])\n",
    "    lmlist.append(lm_similarities[key])\n",
    "    truelist.append(value)\n",
    "#compare the estimated similarities with ground truth\n",
    "pearson_correlations['lin'],_=pearsonr(linlist,truelist)\n",
    "pearson_correlations['NPMI'],_=pearsonr(NPMIlist,truelist)\n",
    "pearson_correlations['LSA'],_=pearsonr(LSAlist,truelist)\n",
    "pearson_correlations['lm'],_=pearsonr(lmlist,truelist)    \n",
    "###\n",
    "# Your answer ENDS HERE\n",
    "###\n",
    "\n",
    "print(pearson_correlations)"
   ]
  },
  {
   "cell_type": "markdown",
   "metadata": {
    "colab_type": "text",
    "id": "aV6PxadqcY5v"
   },
   "source": [
    "<b>For your testing:</b>"
   ]
  },
  {
   "cell_type": "code",
   "execution_count": 0,
   "metadata": {
    "colab": {},
    "colab_type": "code",
    "id": "q2fNHrT0cY5v"
   },
   "outputs": [],
   "source": [
    "assert(pearson_correlations['lin'] > 0.4 and pearson_correlations['lin'] < 0.8)"
   ]
  },
  {
   "cell_type": "markdown",
   "metadata": {
    "colab_type": "text",
    "id": "oIoExaG0cY51"
   },
   "source": [
    "## A final word\n",
    "\n",
    "Normally, we would not use a corpus as small as the Brown for the purposes of building word vectors. Also, note that filtering our test set to just words we are likely to do well on would typically be considered cheating."
   ]
  },
  {
   "cell_type": "code",
   "execution_count": 0,
   "metadata": {
    "colab": {},
    "colab_type": "code",
    "id": "aCwCHklbcY52"
   },
   "outputs": [],
   "source": []
  }
 ],
 "metadata": {
  "accelerator": "GPU",
  "anaconda-cloud": {},
  "colab": {
   "collapsed_sections": [],
   "name": "02-assignment.ipynb",
   "provenance": [],
   "toc_visible": true
  },
  "kernelspec": {
   "display_name": "Python 3",
   "language": "python",
   "name": "python3"
  },
  "language_info": {
   "codemirror_mode": {
    "name": "ipython",
    "version": 3
   },
   "file_extension": ".py",
   "mimetype": "text/x-python",
   "name": "python",
   "nbconvert_exporter": "python",
   "pygments_lexer": "ipython3",
   "version": "3.6.9"
  }
 },
 "nbformat": 4,
 "nbformat_minor": 1
}
